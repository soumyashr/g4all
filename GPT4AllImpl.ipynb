{
  "cells": [
    {
      "cell_type": "code",
      "execution_count": 18,
      "metadata": {
        "colab": {
          "base_uri": "https://localhost:8080/"
        },
        "id": "JemPmFWzm1TO",
        "outputId": "08035343-2b69-4320-cd1b-91a09b74c4ef"
      },
      "outputs": [
        {
          "name": "stdout",
          "output_type": "stream",
          "text": [
            "\u001b[33mWARNING: Running pip as the 'root' user can result in broken permissions and conflicting behaviour with the system package manager. It is recommended to use a virtual environment instead: https://pip.pypa.io/warnings/venv\u001b[0m\u001b[33m\n",
            "\u001b[0m\u001b[33mWARNING: Running pip as the 'root' user can result in broken permissions and conflicting behaviour with the system package manager. It is recommended to use a virtual environment instead: https://pip.pypa.io/warnings/venv\u001b[0m\u001b[33m\n",
            "\u001b[0m\u001b[33mWARNING: Running pip as the 'root' user can result in broken permissions and conflicting behaviour with the system package manager. It is recommended to use a virtual environment instead: https://pip.pypa.io/warnings/venv\u001b[0m\u001b[33m\n",
            "\u001b[0m\u001b[33mWARNING: Running pip as the 'root' user can result in broken permissions and conflicting behaviour with the system package manager. It is recommended to use a virtual environment instead: https://pip.pypa.io/warnings/venv\u001b[0m\u001b[33m\n",
            "\u001b[0m\u001b[33mWARNING: Running pip as the 'root' user can result in broken permissions and conflicting behaviour with the system package manager. It is recommended to use a virtual environment instead: https://pip.pypa.io/warnings/venv\u001b[0m\u001b[33m\n",
            "\u001b[0m\u001b[33mWARNING: Running pip as the 'root' user can result in broken permissions and conflicting behaviour with the system package manager. It is recommended to use a virtual environment instead: https://pip.pypa.io/warnings/venv\u001b[0m\u001b[33m\n",
            "\u001b[0mRequirement already satisfied: sentence-transformers in /usr/local/lib/python3.10/dist-packages (2.2.2)\n",
            "Requirement already satisfied: transformers<5.0.0,>=4.6.0 in /usr/local/lib/python3.10/dist-packages (from sentence-transformers) (4.35.0)\n",
            "Requirement already satisfied: tqdm in /usr/local/lib/python3.10/dist-packages (from sentence-transformers) (4.66.1)\n",
            "Requirement already satisfied: torch>=1.6.0 in /usr/local/lib/python3.10/dist-packages (from sentence-transformers) (2.1.0+cu118)\n",
            "Requirement already satisfied: torchvision in /usr/local/lib/python3.10/dist-packages (from sentence-transformers) (0.16.0+cu118)\n",
            "Requirement already satisfied: numpy in /usr/local/lib/python3.10/dist-packages (from sentence-transformers) (1.23.5)\n",
            "Requirement already satisfied: scikit-learn in /usr/local/lib/python3.10/dist-packages (from sentence-transformers) (1.2.2)\n",
            "Requirement already satisfied: scipy in /usr/local/lib/python3.10/dist-packages (from sentence-transformers) (1.11.3)\n",
            "Requirement already satisfied: nltk in /usr/local/lib/python3.10/dist-packages (from sentence-transformers) (3.8.1)\n",
            "Requirement already satisfied: sentencepiece in /usr/local/lib/python3.10/dist-packages (from sentence-transformers) (0.1.99)\n",
            "Requirement already satisfied: huggingface-hub>=0.4.0 in /usr/local/lib/python3.10/dist-packages (from sentence-transformers) (0.17.3)\n",
            "Requirement already satisfied: filelock in /usr/local/lib/python3.10/dist-packages (from huggingface-hub>=0.4.0->sentence-transformers) (3.12.4)\n",
            "Requirement already satisfied: fsspec in /usr/local/lib/python3.10/dist-packages (from huggingface-hub>=0.4.0->sentence-transformers) (2023.6.0)\n",
            "Requirement already satisfied: requests in /usr/local/lib/python3.10/dist-packages (from huggingface-hub>=0.4.0->sentence-transformers) (2.31.0)\n",
            "Requirement already satisfied: pyyaml>=5.1 in /usr/local/lib/python3.10/dist-packages (from huggingface-hub>=0.4.0->sentence-transformers) (6.0.1)\n",
            "Requirement already satisfied: typing-extensions>=3.7.4.3 in /usr/local/lib/python3.10/dist-packages (from huggingface-hub>=0.4.0->sentence-transformers) (4.8.0)\n",
            "Requirement already satisfied: packaging>=20.9 in /usr/local/lib/python3.10/dist-packages (from huggingface-hub>=0.4.0->sentence-transformers) (23.2)\n",
            "Requirement already satisfied: sympy in /usr/local/lib/python3.10/dist-packages (from torch>=1.6.0->sentence-transformers) (1.12)\n",
            "Requirement already satisfied: networkx in /usr/local/lib/python3.10/dist-packages (from torch>=1.6.0->sentence-transformers) (3.2)\n",
            "Requirement already satisfied: jinja2 in /usr/local/lib/python3.10/dist-packages (from torch>=1.6.0->sentence-transformers) (3.1.2)\n",
            "Requirement already satisfied: triton==2.1.0 in /usr/local/lib/python3.10/dist-packages (from torch>=1.6.0->sentence-transformers) (2.1.0)\n",
            "Requirement already satisfied: regex!=2019.12.17 in /usr/local/lib/python3.10/dist-packages (from transformers<5.0.0,>=4.6.0->sentence-transformers) (2023.6.3)\n",
            "Requirement already satisfied: tokenizers<0.15,>=0.14 in /usr/local/lib/python3.10/dist-packages (from transformers<5.0.0,>=4.6.0->sentence-transformers) (0.14.1)\n",
            "Requirement already satisfied: safetensors>=0.3.1 in /usr/local/lib/python3.10/dist-packages (from transformers<5.0.0,>=4.6.0->sentence-transformers) (0.4.0)\n",
            "Requirement already satisfied: click in /usr/local/lib/python3.10/dist-packages (from nltk->sentence-transformers) (8.1.7)\n",
            "Requirement already satisfied: joblib in /usr/local/lib/python3.10/dist-packages (from nltk->sentence-transformers) (1.3.2)\n",
            "Requirement already satisfied: threadpoolctl>=2.0.0 in /usr/local/lib/python3.10/dist-packages (from scikit-learn->sentence-transformers) (3.2.0)\n",
            "Requirement already satisfied: pillow!=8.3.*,>=5.3.0 in /usr/local/lib/python3.10/dist-packages (from torchvision->sentence-transformers) (9.4.0)\n",
            "Requirement already satisfied: MarkupSafe>=2.0 in /usr/local/lib/python3.10/dist-packages (from jinja2->torch>=1.6.0->sentence-transformers) (2.1.3)\n",
            "Requirement already satisfied: charset-normalizer<4,>=2 in /usr/local/lib/python3.10/dist-packages (from requests->huggingface-hub>=0.4.0->sentence-transformers) (3.3.1)\n",
            "Requirement already satisfied: idna<4,>=2.5 in /usr/local/lib/python3.10/dist-packages (from requests->huggingface-hub>=0.4.0->sentence-transformers) (3.4)\n",
            "Requirement already satisfied: urllib3<3,>=1.21.1 in /usr/local/lib/python3.10/dist-packages (from requests->huggingface-hub>=0.4.0->sentence-transformers) (2.0.7)\n",
            "Requirement already satisfied: certifi>=2017.4.17 in /usr/local/lib/python3.10/dist-packages (from requests->huggingface-hub>=0.4.0->sentence-transformers) (2023.7.22)\n",
            "Requirement already satisfied: mpmath>=0.19 in /usr/local/lib/python3.10/dist-packages (from sympy->torch>=1.6.0->sentence-transformers) (1.3.0)\n",
            "\u001b[33mWARNING: Running pip as the 'root' user can result in broken permissions and conflicting behaviour with the system package manager. It is recommended to use a virtual environment instead: https://pip.pypa.io/warnings/venv\u001b[0m\u001b[33m\n",
            "\u001b[0mRequirement already satisfied: pygpt4all in /usr/local/lib/python3.10/dist-packages (1.1.0)\n",
            "Requirement already satisfied: pyllamacpp in /usr/local/lib/python3.10/dist-packages (from pygpt4all) (2.4.2)\n",
            "Requirement already satisfied: pygptj in /usr/local/lib/python3.10/dist-packages (from pygpt4all) (2.0.3)\n",
            "Requirement already satisfied: numpy in /usr/local/lib/python3.10/dist-packages (from pygptj->pygpt4all) (1.23.5)\n",
            "\u001b[33mWARNING: Running pip as the 'root' user can result in broken permissions and conflicting behaviour with the system package manager. It is recommended to use a virtual environment instead: https://pip.pypa.io/warnings/venv\u001b[0m\u001b[33m\n",
            "\u001b[0m"
          ]
        }
      ],
      "source": [
        "!pip3 install -Uqqq pip\n",
        "!pip3 install -qqq langchain==0.0.173\n",
        "!pip3 install -qqq chromadb==0.3.23\n",
        "!pip3 install -qqq pypdf==3.8.1\n",
        "!pip3 install -qqq pygpt4all==1.1.0\n",
        "!pip3 install -qqq pdf2image==1.16.3\n",
        "!pip3 install sentence-transformers\n",
        "!pip3 install pygpt4all\n"
      ]
    },
    {
      "cell_type": "code",
      "execution_count": 20,
      "metadata": {
        "id": "rdTyNpX6m5VR"
      },
      "outputs": [],
      "source": [
        "import chromadb\n",
        "from langchain.chains import RetrievalQA\n",
        "from langchain.document_loaders import PyPDFLoader\n",
        "from langchain.embeddings import HuggingFaceEmbeddings\n",
        "from langchain.llms import GPT4All\n",
        "from langchain.text_splitter import RecursiveCharacterTextSplitter\n",
        "from langchain.vectorstores import Chroma\n",
        "from pdf2image import convert_from_path\n",
        "from langchain.embeddings.sentence_transformer import SentenceTransformerEmbeddings\n"
      ]
    },
    {
      "cell_type": "code",
      "execution_count": 21,
      "metadata": {
        "id": "JZkkJKh_lx2A"
      },
      "outputs": [],
      "source": [
        "class GPT4AllImpl:\n",
        "  def __init__(self, pdf_file, model_path):\n",
        "    self.pdf_file = pdf_file\n",
        "    self.model_path = model_path\n",
        "\n",
        "\n",
        "  # # Load pdf\n",
        "  def load_pdf_chunks(self, pdf_file = \"ms-financial-statement.pdf\"):\n",
        "    loader = PyPDFLoader(pdf_file) #pdf_file\n",
        "    documents = loader.load_and_split()\n",
        "    # len(documents)\n",
        "\n",
        "    # chunk into smaller parts using RecursiveCharacterTextSplitter.\n",
        "    text_splitter = RecursiveCharacterTextSplitter(chunk_size=1024,chunk_overlap=64)\n",
        "    texts = text_splitter.split_documents(documents)\n",
        "\n",
        "    return texts\n",
        "\n",
        "\n",
        "\n",
        "\n",
        "  # Create Embeddings\n",
        "  def create_embeddings(self):\n",
        "    print('entering create_embeddings()')\n",
        "    embedding_function = HuggingFaceEmbeddings(\n",
        "        model_name=\"sentence-transformers/all-MiniLM-L6-v2\")\n",
        "    print('exiting create_embeddings()')\n",
        "    return embedding_function\n",
        "\n",
        "  # # Save the geenrated embeddings\n",
        "  def save_embeddings(self, texts, embedding_function, persist_directory):\n",
        "    print('entering save_embeddings()')\n",
        "    db = Chroma.from_documents(texts, embedding = embedding_function,persist_directory= persist_directory)\n",
        "    print('exiting save_embeddings()\\n')\n",
        "    db.persist()\n",
        "    return db\n",
        "\n",
        "  ################## testing below ###################\n",
        "\n",
        "  # The embeddigs are already generate dand saved\n",
        "  # Now reteieve those embeddings\n",
        "  def retrieve_embeddings(self, persist_directory,embedding_function):\n",
        "\n",
        "    db_loaded = Chroma(collection_name = 'index_collection', embedding_function=embedding_function, persist_directory= persist_directory )\n",
        "    return db_loaded\n",
        "\n",
        "\n",
        "  ################### testing above ###################\n",
        "\n",
        "  # Create Chain\n",
        "  def create_retrievalQA_chain(self, db_loaded, model_n_ctx,model_path):\n",
        "    print('entering create_retrievalQA_chain()')\n",
        "    model_n_ctx = 1000\n",
        "    model_path = \"./ggml-gpt4all-j-v1.3-groovy.bin\"\n",
        "    llm = GPT4All(model=model_path, n_ctx=1000, backend=\"gptj\", verbose=False)\n",
        "\n",
        "    # pass the GPT4All model to a RetrievalQA chain:\n",
        "    qa = RetrievalQA.from_chain_type(\n",
        "      llm=llm,\n",
        "      chain_type=\"stuff\",\n",
        "      retriever=db_loaded.as_retriever(search_kwargs={\"k\": 3}),\n",
        "      return_source_documents=True,\n",
        "      verbose=False  )\n",
        "\n",
        "    print('exiting create_retrievalQA_chain()\\n')\n",
        "\n",
        "    return qa\n",
        "\n",
        "  # Reply to asked Question\n",
        "  def retrieve_result(self,  query_param, qa):\n",
        "    print('entering retrieve_result()')\n",
        "    query_param = query_param + 'Extract it from the text.'\n",
        "\n",
        "    res = qa(query_param)\n",
        "    print('exiting retrieve_result()\\n')\n",
        "    return res[\"result\"]\n",
        "\n",
        "  # driver function\n",
        "  def execute_c4a(self, cust_query):\n",
        "    print('entering execute_c4a()')\n",
        "    texts = self.load_pdf_chunks()\n",
        "    embedding_function = self.create_embeddings()\n",
        "    db = self.save_embeddings(texts,embedding_function,\"db\")\n",
        "    qa = self.create_retrievalQA_chain(db, 1000,\"./ggml-gpt4all-j-v1.3-groovy.bin\")\n",
        "    res = self.retrieve_result(cust_query, qa)\n",
        "    print('exiting execute_c4a()\\n')\n",
        "    return res\n",
        "\n",
        "\n",
        "\n",
        "  # do not use this yet\n",
        "  def execute_c4a_new(self, cust_query):\n",
        "    cust_query = 'How much is the dividend per share during during 2022? Extract it from the text.'\n",
        "\n",
        "\n",
        "    texts = self.load_pdf_chunks()\n",
        "\n",
        "\n",
        "    # create the open-source embedding function\n",
        "    embedding_function = SentenceTransformerEmbeddings(model_name=\"all-MiniLM-L6-v2\")\n",
        "\n",
        "    client = chromadb.PersistentClient(path=\"./db_latest\")\n",
        "\n",
        "    # collection = client.create_collection(name=\"my_collection\", embedding_function=embedding_function)\n",
        "    collection = client.get_collection(name=\"my_collection\", embedding_function=embedding_function)\n",
        "\n",
        "    # # save to disk\n",
        "    # texts = self.load_pdf_chunks()\n",
        "    # db2 = Chroma.from_documents(texts, embedding_function, persist_directory=\"./db_test\")\n",
        "    # docs = db2.similarity_search(query)\n",
        "\n",
        "    # # load from disk\n",
        "    # db3 = Chroma(persist_directory=\"./db_test\", embedding_function=embedding_function)\n",
        "\n",
        "\n",
        "    model_n_ctx = 1000\n",
        "    model_path = \"./ggml-gpt4all-j-v1.3-groovy.bin\"\n",
        "    llm = GPT4All(model=model_path, n_ctx=1000, backend=\"gptj\", verbose=False)\n",
        "\n",
        "    # pass the GPT4All model to a RetrievalQA chain:\n",
        "    qa = RetrievalQA.from_chain_type(\n",
        "      llm=llm,\n",
        "      chain_type=\"stuff\",\n",
        "      retriever=collection.as_retriever(search_kwargs={\"k\": 3}),\n",
        "      return_source_documents=True,\n",
        "      verbose=False  )\n",
        "\n",
        "\n",
        "    query_param = query_param + 'Extract it from the text.'\n",
        "\n",
        "    res = qa(query_param)\n",
        "    return res[\"result\"]\n",
        "\n",
        "\n"
      ]
    },
    {
      "cell_type": "markdown",
      "metadata": {
        "id": "lem4KI9dxSIV"
      },
      "source": [
        "# Function-wise starts"
      ]
    },
    {
      "cell_type": "code",
      "execution_count": 22,
      "metadata": {
        "id": "f4KJ6DAjw7k2"
      },
      "outputs": [],
      "source": [
        "# linewise\n",
        "c4a = GPT4AllImpl_Working(\"\",\"\")\n",
        "cust_query = 'How much is the dividend per share during during 2022?'\n",
        "\n",
        "texts = c4a.load_pdf_chunks()"
      ]
    },
    {
      "cell_type": "code",
      "execution_count": 23,
      "metadata": {
        "colab": {
          "base_uri": "https://localhost:8080/"
        },
        "id": "xlAJUVE_xMNx",
        "outputId": "b3a0f505-6ae3-43ab-e809-fc580b180f02"
      },
      "outputs": [
        {
          "name": "stdout",
          "output_type": "stream",
          "text": [
            "entering create_embeddings()\n",
            "exiting create_embeddings()\n"
          ]
        }
      ],
      "source": [
        "embedding_function = c4a.create_embeddings()"
      ]
    },
    {
      "cell_type": "code",
      "execution_count": 24,
      "metadata": {
        "colab": {
          "base_uri": "https://localhost:8080/"
        },
        "id": "0S2LQUrzxMXj",
        "outputId": "1ad55e9b-6b2e-4077-be46-5fc771c6522a"
      },
      "outputs": [
        {
          "name": "stdout",
          "output_type": "stream",
          "text": [
            "entering save_embeddings()\n",
            "exiting save_embeddings()\n",
            "\n"
          ]
        }
      ],
      "source": [
        "db = c4a.save_embeddings(texts,embedding_function,\"db\")"
      ]
    },
    {
      "cell_type": "code",
      "execution_count": 25,
      "metadata": {
        "id": "o9I5jcX8ep5p"
      },
      "outputs": [],
      "source": [
        "# # db_loaded = c4a.retrieve_embeddings('./db',embedding_function)\n",
        "\n",
        "# db_loaded = Chroma(collection_name='index_collection',\n",
        "#                    embedding_function=embedding_function, persist_directory= 'db' )"
      ]
    },
    {
      "cell_type": "code",
      "execution_count": 26,
      "metadata": {
        "id": "9ZMCfXU1lm--"
      },
      "outputs": [],
      "source": [
        "# db_loaded"
      ]
    },
    {
      "cell_type": "code",
      "execution_count": 27,
      "metadata": {
        "colab": {
          "base_uri": "https://localhost:8080/"
        },
        "id": "DW1gPnIzxMda",
        "outputId": "c1a89c13-cad1-4b2f-a69f-85d8c16963c4"
      },
      "outputs": [
        {
          "name": "stdout",
          "output_type": "stream",
          "text": [
            "entering create_retrievalQA_chain()\n",
            "exiting create_retrievalQA_chain()\n",
            "\n"
          ]
        }
      ],
      "source": [
        "qa = c4a.create_retrievalQA_chain(db, 1000,\"./ggml-gpt4all-j-v1.3-groovy.bin\")\n"
      ]
    },
    {
      "cell_type": "code",
      "execution_count": 28,
      "metadata": {
        "colab": {
          "base_uri": "https://localhost:8080/"
        },
        "id": "Ltt7P9gUxP8K",
        "outputId": "6da44c4f-aec4-47b3-a6ee-891a6bfbc226"
      },
      "outputs": [
        {
          "name": "stdout",
          "output_type": "stream",
          "text": [
            "entering retrieve_result()\n",
            "exiting retrieve_result()\n",
            "\n"
          ]
        }
      ],
      "source": [
        "res = c4a.retrieve_result(cust_query, qa)"
      ]
    },
    {
      "cell_type": "code",
      "execution_count": 29,
      "metadata": {
        "colab": {
          "base_uri": "https://localhost:8080/",
          "height": 53
        },
        "id": "jrKs5b-0xQbZ",
        "outputId": "62bddbfa-04d2-4fb1-82d5-e93f29558819"
      },
      "outputs": [
        {
          "data": {
            "application/vnd.google.colaboratory.intrinsic+json": {
              "type": "string"
            },
            "text/plain": [
              "'\\n\\nThe dividend declared on June 14, 2022 was included in other current liabilities as of June 30, 2022.\\n\\nTotal $2.24 $16,871\\n\\nThe dividend per share during 2022 is not provided in the given text.'"
            ]
          },
          "execution_count": 29,
          "metadata": {},
          "output_type": "execute_result"
        }
      ],
      "source": [
        "res"
      ]
    },
    {
      "cell_type": "markdown",
      "metadata": {
        "id": "quPDndmMxYHD"
      },
      "source": [
        "# Function-wise ends"
      ]
    },
    {
      "cell_type": "markdown",
      "metadata": {
        "id": "yHhC2uG9xZyO"
      },
      "source": [
        "# Driver method - one go call starts"
      ]
    },
    {
      "cell_type": "code",
      "execution_count": 14,
      "metadata": {
        "id": "NBlThlsep1CK"
      },
      "outputs": [],
      "source": [
        "# c4a = GPT4AllImpl_Working(\"\",\"\")\n",
        "# cust_query = 'How much is the dividend per share during during 2022?'\n",
        "# result = c4a.execute_c4a(cust_query)\n",
        "\n",
        "# result"
      ]
    },
    {
      "cell_type": "code",
      "execution_count": 15,
      "metadata": {
        "id": "sRjXlIrEwg-6"
      },
      "outputs": [],
      "source": [
        "# result"
      ]
    },
    {
      "cell_type": "markdown",
      "metadata": {
        "id": "TnrLqp6Nxhim"
      },
      "source": [
        "# Driver method - one go call ends"
      ]
    }
  ],
  "metadata": {
    "accelerator": "TPU",
    "colab": {
      "machine_shape": "hm",
      "provenance": []
    },
    "kernelspec": {
      "display_name": "Python 3",
      "name": "python3"
    },
    "language_info": {
      "name": "python"
    }
  },
  "nbformat": 4,
  "nbformat_minor": 0
}
